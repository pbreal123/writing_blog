{
 "cells": [
  {
   "cell_type": "markdown",
   "id": "d6183f3c",
   "metadata": {},
   "source": [
    "# 1. Business Understanding\n",
    "\n",
    "In today’s data-driven world, data science has become a cornerstone of decision-making, innovation, and growth across industries. From healthcare to finance, retail to manufacturing, the ability to predict future trends and behaviors has never been more valuable. In this post, we’ll walk through a practical example of using predictive analytics to forecast future outcomes with Python. We’ll cover essential techniques, showcase code snippets, and discuss the implications of predictive analytics in various domains."
   ]
  },
  {
   "cell_type": "markdown",
   "id": "8036a1e6",
   "metadata": {},
   "source": [
    "# 2. Data Preparation\n",
    "\n",
    "Created dummy data and loaded to dataframe. Data contains advertising budget, stored traffic and sales.This is split for any feature engineering, transformations, or splitting."
   ]
  },
  {
   "cell_type": "markdown",
   "id": "1700dd5c",
   "metadata": {},
   "source": [
    "# 3. Data Modeling\n",
    "\n",
    "Linear regression is applied to arrive at conclusion."
   ]
  },
  {
   "cell_type": "markdown",
   "id": "c0b701d8",
   "metadata": {},
   "source": [
    "# 4. Evaluation of Results\n",
    "\n",
    "Discuss the metrics used to evaluate model performance, and compare different models or strategies. Include any validation techniques."
   ]
  },
  {
   "cell_type": "markdown",
   "id": "6886d2d7",
   "metadata": {},
   "source": [
    "# Predictive Analytics with Python: Forecasting Sales Using Linear Regression\n",
    "\n",
    "In this notebook, we'll walk through a predictive analytics project where we forecast the future sales of a retail business using linear regression. We'll use Python, and explore how historical data (advertising budget, store traffic) can be used to predict sales."
   ]
  },
  {
   "cell_type": "code",
   "execution_count": 1,
   "id": "39d8f7fe",
   "metadata": {},
   "outputs": [],
   "source": [
    "# 1. Import Required Libraries\n",
    "\n",
    "import pandas as pd\n",
    "import numpy as np\n",
    "import matplotlib.pyplot as plt\n",
    "from sklearn.model_selection import train_test_split\n",
    "from sklearn.linear_model import LinearRegression\n",
    "from sklearn.metrics import mean_squared_error, r2_score"
   ]
  },
  {
   "cell_type": "code",
   "execution_count": 2,
   "id": "e94cd1f9",
   "metadata": {},
   "outputs": [
    {
     "data": {
      "text/html": [
       "<div>\n",
       "<style scoped>\n",
       "    .dataframe tbody tr th:only-of-type {\n",
       "        vertical-align: middle;\n",
       "    }\n",
       "\n",
       "    .dataframe tbody tr th {\n",
       "        vertical-align: top;\n",
       "    }\n",
       "\n",
       "    .dataframe thead th {\n",
       "        text-align: right;\n",
       "    }\n",
       "</style>\n",
       "<table border=\"1\" class=\"dataframe\">\n",
       "  <thead>\n",
       "    <tr style=\"text-align: right;\">\n",
       "      <th></th>\n",
       "      <th>Advertising Budget ($)</th>\n",
       "      <th>Store Traffic (Visitors)</th>\n",
       "      <th>Sales ($)</th>\n",
       "    </tr>\n",
       "    <tr>\n",
       "      <th>Month</th>\n",
       "      <th></th>\n",
       "      <th></th>\n",
       "      <th></th>\n",
       "    </tr>\n",
       "  </thead>\n",
       "  <tbody>\n",
       "    <tr>\n",
       "      <th>Jan</th>\n",
       "      <td>50000</td>\n",
       "      <td>3000</td>\n",
       "      <td>150000</td>\n",
       "    </tr>\n",
       "    <tr>\n",
       "      <th>Feb</th>\n",
       "      <td>55000</td>\n",
       "      <td>3500</td>\n",
       "      <td>160000</td>\n",
       "    </tr>\n",
       "    <tr>\n",
       "      <th>Mar</th>\n",
       "      <td>60000</td>\n",
       "      <td>4000</td>\n",
       "      <td>170000</td>\n",
       "    </tr>\n",
       "    <tr>\n",
       "      <th>Apr</th>\n",
       "      <td>65000</td>\n",
       "      <td>4500</td>\n",
       "      <td>180000</td>\n",
       "    </tr>\n",
       "    <tr>\n",
       "      <th>May</th>\n",
       "      <td>70000</td>\n",
       "      <td>5000</td>\n",
       "      <td>200000</td>\n",
       "    </tr>\n",
       "    <tr>\n",
       "      <th>Jun</th>\n",
       "      <td>40000</td>\n",
       "      <td>2800</td>\n",
       "      <td>180000</td>\n",
       "    </tr>\n",
       "    <tr>\n",
       "      <th>Jul</th>\n",
       "      <td>45000</td>\n",
       "      <td>3100</td>\n",
       "      <td>170000</td>\n",
       "    </tr>\n",
       "    <tr>\n",
       "      <th>Aug</th>\n",
       "      <td>62000</td>\n",
       "      <td>3300</td>\n",
       "      <td>155000</td>\n",
       "    </tr>\n",
       "  </tbody>\n",
       "</table>\n",
       "</div>"
      ],
      "text/plain": [
       "       Advertising Budget ($)  Store Traffic (Visitors)  Sales ($)\n",
       "Month                                                             \n",
       "Jan                     50000                      3000     150000\n",
       "Feb                     55000                      3500     160000\n",
       "Mar                     60000                      4000     170000\n",
       "Apr                     65000                      4500     180000\n",
       "May                     70000                      5000     200000\n",
       "Jun                     40000                      2800     180000\n",
       "Jul                     45000                      3100     170000\n",
       "Aug                     62000                      3300     155000"
      ]
     },
     "execution_count": 2,
     "metadata": {},
     "output_type": "execute_result"
    }
   ],
   "source": [
    "# 2. Sample Dataset\n",
    "\n",
    "# Create the dataset\n",
    "data = {\n",
    "    'Month': ['Jan', 'Feb', 'Mar', 'Apr', 'May','Jun','Jul','Aug'],\n",
    "    'Advertising Budget ($)': [50000, 55000, 60000, 65000, 70000,40000,45000,62000],\n",
    "    'Store Traffic (Visitors)': [3000, 3500, 4000, 4500, 5000,2800,3100,3300],\n",
    "    'Sales ($)': [150000, 160000, 170000, 180000, 200000,180000,170000,155000]\n",
    "}\n",
    "\n",
    "# Convert into a pandas DataFrame\n",
    "df = pd.DataFrame(data)\n",
    "df.set_index('Month', inplace=True)\n",
    "\n",
    "# Display the dataframe\n",
    "df"
   ]
  },
  {
   "cell_type": "code",
   "execution_count": 3,
   "id": "ef468ac1",
   "metadata": {},
   "outputs": [],
   "source": [
    "# 3. Preparing Data for Training\n",
    "\n",
    "# Features (independent variables)\n",
    "X = df[['Advertising Budget ($)', 'Store Traffic (Visitors)']]  \n",
    "\n",
    "# Target (dependent variable)\n",
    "y = df['Sales ($)']\n",
    "\n",
    "# Split the data into training and testing sets (80% train, 20% test)\n",
    "X_train, X_test, y_train, y_test = train_test_split(X, y, test_size=0.2, random_state=42)"
   ]
  },
  {
   "cell_type": "code",
   "execution_count": 4,
   "id": "dd0c3037",
   "metadata": {},
   "outputs": [
    {
     "name": "stdout",
     "output_type": "stream",
     "text": [
      "Mean Squared Error: 205398668.79009342\n",
      "R-squared: -1.053986687900934\n"
     ]
    }
   ],
   "source": [
    "# 4. Training the Model\n",
    "\n",
    "# Initialize the Linear Regression model\n",
    "model = LinearRegression()\n",
    "\n",
    "# Train the model using the training data\n",
    "model.fit(X_train, y_train)\n",
    "\n",
    "# Make predictions on the test set\n",
    "y_pred = model.predict(X_test)\n",
    "\n",
    "# Model Evaluation\n",
    "mse = mean_squared_error(y_test, y_pred)\n",
    "r2 = r2_score(y_test, y_pred)\n",
    "\n",
    "# Output the results\n",
    "print(f\"Mean Squared Error: {mse}\")\n",
    "print(f\"R-squared: {r2}\")"
   ]
  },
  {
   "cell_type": "code",
   "execution_count": 5,
   "id": "ca04080e",
   "metadata": {},
   "outputs": [
    {
     "data": {
      "image/png": "[encoded data removed]",
      "text/plain": [
       "<Figure size 800x600 with 1 Axes>"
      ]
     },
     "metadata": {},
     "output_type": "display_data"
    }
   ],
   "source": [
    "# 5. Visualizing the Results\n",
    "\n",
    "# Visualizing the actual vs predicted sales\n",
    "\n",
    "def visualize_sales(y_test, y_pred):\n",
    "    \"\"\"\n",
    "    Function to visualize the actual vs predicted sales.\n",
    "\n",
    "    Parameters:\n",
    "    y_test (array-like): The actual sales values.\n",
    "    y_pred (array-like): The predicted sales values.\n",
    "    \"\"\"\n",
    "    plt.figure(figsize=(8,6))\n",
    "    plt.scatter(y_test, y_pred, color='blue', label='Actual vs Predicted')  # Actual vs Predicted points\n",
    "    plt.plot([min(y_test), max(y_test)], [min(y_test), max(y_test)], color='red', linewidth=2, label='Perfect Prediction Line')  # Perfect prediction line\n",
    "    plt.title('Actual vs Predicted Sales')\n",
    "    plt.xlabel('Actual Sales ($)')\n",
    "    plt.ylabel('Predicted Sales ($)')\n",
    "    plt.legend()\n",
    "    plt.show()\n",
    "\n",
    "# Call the function with your actual and predicted values\n",
    "visualize_sales(y_test, y_pred)\n"
   ]
  },
  {
   "cell_type": "markdown",
   "id": "7215e6d3",
   "metadata": {},
   "source": [
    "## 6. Interpreting the Model\n",
    "\n",
    "The **R-squared** value represents the proportion of variance in the dependent variable (Sales) that is predictable from the independent variables (Advertising Budget and Store Traffic). A higher R-squared value indicates a better fit.\n",
    "\n",
    "If your R-squared value is close to 1, it suggests that the model is able to explain most of the variability in sales using the available features.\n",
    "\n",
    "### Conclusion\n",
    "\n",
    "In this notebook, we applied linear regression to forecast sales based on advertising budget and store traffic. We learned how to prepare data, train a model, evaluate its performance, and visualize the results. Predictive analytics is a powerful tool that can be used in a wide range of applications, such as forecasting demand, optimizing marketing strategies, and improving business operations."
   ]
  }
 ],
 "metadata": {
  "kernelspec": {
   "display_name": "Python 3 (ipykernel)",
   "language": "python",
   "name": "python3"
  },
  "language_info": {
   "codemirror_mode": {
    "name": "ipython",
    "version": 3
   },
   "file_extension": ".py",
   "mimetype": "text/x-python",
   "name": "python",
   "nbconvert_exporter": "python",
   "pygments_lexer": "ipython3",
   "version": "3.12.4"
  }
 },
 "nbformat": 4,
 "nbformat_minor": 5
}
